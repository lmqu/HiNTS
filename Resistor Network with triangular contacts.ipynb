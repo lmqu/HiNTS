{
 "cells": [
  {
   "cell_type": "code",
   "execution_count": 25,
   "metadata": {
    "collapsed": true
   },
   "outputs": [],
   "source": [
    "import numpy as np\n",
    "import numpy.linalg as LA\n",
    "import math\n",
    "import matplotlib.pyplot as plt\n",
    "\n",
    "from tkinter import Tk\n",
    "from tkinter import filedialog as fd"
   ]
  },
  {
   "cell_type": "code",
   "execution_count": 26,
   "metadata": {
    "collapsed": true
   },
   "outputs": [],
   "source": [
    "def is_number(s):\n",
    "    try:\n",
    "        float(s)\n",
    "        return True\n",
    "    except ValueError:\n",
    "        return False"
   ]
  },
  {
   "cell_type": "code",
   "execution_count": 27,
   "metadata": {},
   "outputs": [
    {
     "name": "stdout",
     "output_type": "stream",
     "text": [
      "500\n"
     ]
    }
   ],
   "source": [
    "root = Tk()\n",
    "filename = fd.askopenfilename(title = \"Choose the mobility file\")\n",
    "#filenames = list(filenames_tuple)\n",
    "f = open(filename,'r')\n",
    "\n",
    "filename = fd.askopenfilename(title = \"Choose the angle file\")\n",
    "g = open(filename,'r')\n",
    "root.withdraw()\n",
    "\n",
    "resistanceList = []\n",
    "for line in f:\n",
    "    newline = line.split()\n",
    "    if is_number(newline[0][0]):\n",
    "        #print(newline)\n",
    "        resistanceList.append([float(newline[1]),float(newline[2])])  \n",
    "        \n",
    "print(len(resistanceList))\n",
    "for counter, line in enumerate(g):\n",
    "    newline = line.split()\n",
    "    resistanceList[counter].append(float(newline[1]))"
   ]
  },
  {
   "cell_type": "code",
   "execution_count": 28,
   "metadata": {},
   "outputs": [
    {
     "name": "stdout",
     "output_type": "stream",
     "text": [
      "Found zero eigenvalue, iterator is: 0\n",
      "Found zero eigenvalue, iterator is: 1\n",
      "Found zero eigenvalue, iterator is: 2\n",
      "Found zero eigenvalue, iterator is: 3\n",
      "Found zero eigenvalue, iterator is: 4\n",
      "Found zero eigenvalue, iterator is: 5\n",
      "Found zero eigenvalue, iterator is: 6\n",
      "Found zero eigenvalue, iterator is: 7\n",
      "Found zero eigenvalue, iterator is: 8\n",
      "Found zero eigenvalue, iterator is: 9\n",
      "Found zero eigenvalue, iterator is: 10\n",
      "Found zero eigenvalue, iterator is: 11\n",
      "Found zero eigenvalue, iterator is: 12\n",
      "Found zero eigenvalue, iterator is: 13\n",
      "Found zero eigenvalue, iterator is: 14\n",
      "Found zero eigenvalue, iterator is: 15\n",
      "Found zero eigenvalue, iterator is: 16\n",
      "Found zero eigenvalue, iterator is: 17\n",
      "Found zero eigenvalue, iterator is: 18\n",
      "Found zero eigenvalue, iterator is: 19\n",
      "Resistance is: 0.401518 +- 0.012147 Ohms\n",
      "Mobility is: 2.517732 cm^2/Vs\n"
     ]
    },
    {
     "data": {
      "image/png": "[encoded data removed]",
      "text/plain": [
       "<Figure size 432x288 with 2 Axes>"
      ]
     },
     "metadata": {},
     "output_type": "display_data"
    }
   ],
   "source": [
    "l = 15\n",
    "size = l**2 + 2\n",
    "n = 3*.002*(10**21)\n",
    "e = 1.602*(10**(-19))\n",
    "\n",
    "R_total = []\n",
    "r_cut = 450\n",
    "iterations = 20\n",
    "\n",
    "for iterator in range(0,iterations):\n",
    "    rIndex = np.random.randint(0,r_cut)\n",
    "    R = 0\n",
    "    \n",
    "    C = np.zeros((size, size))\n",
    "    over_count = 0\n",
    "\n",
    "    #fill C_array\n",
    "    for i in range(0,size - 1):\n",
    "        for j in range(0,size - 1):\n",
    "            if j == i:\n",
    "                over_r = 0\n",
    "            else:\n",
    "                over_r = n*e*resistanceList[rIndex][0]\n",
    "\n",
    "            #bottom node:\n",
    "            if i==0 and j<= l and i!=j:\n",
    "                C[i][j] -= over_r\n",
    "                C[j][i] -= over_r\n",
    "\n",
    "                C[i][i] += over_r\n",
    "                C[j][j] += over_r\n",
    "\n",
    "                rIndex += 1\n",
    "\n",
    "            #intermediate nodes\n",
    "            if (j == i+1 and i%l != 0) or j == i + l:\n",
    "                if C[i][j] == 0:\n",
    "                    C[i][j] -= over_r\n",
    "                    C[j][i] -= over_r\n",
    "\n",
    "                    C[i][i] += over_r\n",
    "                    C[j][j] += over_r\n",
    "\n",
    "                    rIndex += 1\n",
    "\n",
    "            #top node\n",
    "            if i >= size - l - 1:\n",
    "                if C[i][size - 1] == 0:\n",
    "                    over_r = n*e*resistanceList[rIndex][0]\n",
    "\n",
    "                    C[i][size - 1] -= over_r\n",
    "                    C[size-1][i] -= over_r\n",
    "\n",
    "                    C[i][i] += over_r\n",
    "                    C[size-1][size-1] += over_r\n",
    "\n",
    "                    rIndex += 1\n",
    "\n",
    "            if rIndex >= r_cut:\n",
    "                rIndex -= r_cut\n",
    "                over_count += 1\n",
    "\n",
    "                if over_count > 1:\n",
    "                    print(\"lowered resistance index too many times\")\n",
    "\n",
    "    (w,v)=LA.eig(C)   \n",
    "\n",
    "    #count=0\n",
    "    for i in range(0,size):\n",
    "        if w[i] >= 10**-10:\n",
    "            R+=(1/w[i])*np.abs(v[0][i]-v[size-1][i])**2\n",
    "            \n",
    "        else:\n",
    "        #    count+=1\n",
    "            print(\"Found zero eigenvalue, iterator is: %i\"%iterator)\n",
    "            \n",
    "    R_total.append(R)\n",
    "\n",
    "R_total_array = np.asarray(R_total)\n",
    "mean = R_total_array.mean()\n",
    "std = np.std(R_total_array)\n",
    "\n",
    "\n",
    "print(\"Resistance is: %f +- %f Ohms\"%(mean,std))\n",
    "\n",
    "conductivity = 1/R\n",
    "mobility = conductivity/(n*e)\n",
    "print(\"Mobility is: %f cm^2/Vs\"%mobility)\n",
    "\n",
    "#use kernal density estimation\n",
    "\n",
    "#################\n",
    "#plot histograms#\n",
    "#################\n",
    "\n",
    "n_bins = 25\n",
    "r_values = np.asarray([i[0] for i in resistanceList])\n",
    "a_values = np.asarray([i[2] for i in resistanceList])\n",
    "\n",
    "fig, axs = plt.subplots(1, 2, sharey=True)\n",
    "axs[0].hist(a_values, bins=n_bins)\n",
    "axs[0].axvline(a_values.mean(), color = 'k', linestyle = 'dashed',linewidth = 1)\n",
    "axs[0].set_xlabel(\"Angle (rad)\")\n",
    "axs[1].hist(r_values, bins=n_bins)\n",
    "axs[1].axvline(mobility, color='k', linestyle='dashed', linewidth=1)\n",
    "axs[1].set_xlabel(\"Mobility ($cm^{2}/Vs$)\")\n",
    "plt.show()"
   ]
  },
  {
   "cell_type": "code",
   "execution_count": null,
   "metadata": {
    "collapsed": true
   },
   "outputs": [],
   "source": []
  }
 ],
 "metadata": {
  "kernelspec": {
   "display_name": "Python [conda env:Anaconda3]",
   "language": "python",
   "name": "conda-env-Anaconda3-py"
  },
  "language_info": {
   "codemirror_mode": {
    "name": "ipython",
    "version": 3
   },
   "file_extension": ".py",
   "mimetype": "text/x-python",
   "name": "python",
   "nbconvert_exporter": "python",
   "pygments_lexer": "ipython3",
   "version": "3.6.3"
  }
 },
 "nbformat": 4,
 "nbformat_minor": 2
}
