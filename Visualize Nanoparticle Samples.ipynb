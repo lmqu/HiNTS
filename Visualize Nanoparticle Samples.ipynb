{
 "cells": [
  {
   "cell_type": "code",
   "execution_count": 1,
   "metadata": {
    "collapsed": true
   },
   "outputs": [],
   "source": [
    "import numpy as np\n",
    "from mayavi import mlab\n",
    "from tkinter import Tk\n",
    "from tkinter.filedialog import askopenfilename"
   ]
  },
  {
   "cell_type": "code",
   "execution_count": 2,
   "metadata": {
    "collapsed": true
   },
   "outputs": [],
   "source": [
    "root = Tk()\n",
    "filename = askopenfilename()\n",
    "f = open(filename,'r')\n",
    "\n",
    "root.withdraw()\n",
    "\n",
    "index = 1;\n",
    "xList = []\n",
    "yList = []\n",
    "zList = []\n",
    "dList = []\n",
    "\n",
    "\n",
    "for line in f:\n",
    "    if index > 6:\n",
    "        newline = line.split(', ')\n",
    "        xList.append(float(newline[0]))\n",
    "        yList.append(float(newline[1]))\n",
    "        zList.append(float(newline[2]))\n",
    "        dList.append(float(newline[3]))\n",
    "    index += 1\n",
    "f.close()\n",
    "\n",
    "xArray = np.asarray(xList)\n",
    "yArray = np.asarray(yList)\n",
    "zArray = np.asarray(zList)\n",
    "dArray = np.asarray(dList)\n",
    "\n",
    "pts = mlab.points3d(xArray,yArray,zArray,dArray,scale_factor = 1)\n",
    "mlab.show()"
   ]
  }
 ],
 "metadata": {
  "kernelspec": {
   "display_name": "Python [conda env:old_qt]",
   "language": "python",
   "name": "conda-env-old_qt-py"
  },
  "language_info": {
   "codemirror_mode": {
    "name": "ipython",
    "version": 3
   },
   "file_extension": ".py",
   "mimetype": "text/x-python",
   "name": "python",
   "nbconvert_exporter": "python",
   "pygments_lexer": "ipython3",
   "version": "3.5.5"
  }
 },
 "nbformat": 4,
 "nbformat_minor": 2
}
